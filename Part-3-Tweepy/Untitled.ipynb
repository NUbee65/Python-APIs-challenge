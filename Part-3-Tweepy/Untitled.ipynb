{
 "cells": [
  {
   "cell_type": "code",
   "execution_count": null,
   "metadata": {},
   "outputs": [],
   "source": [
    "def get_r2_numpy(TLn_x, TLn_y):\n",
    "    TLn_slope, TLn_intercept = np.polyfit(TLn_x, TLn_y, 1)\n",
    "    TLn_r_squared = 1 - (sum((TLn_y - (TLn_slope * TLn_x + TLn_intercept))**2) / ((len(TLn_y) - 1) * np.var(TLn_y, ddof=1)))\n",
    "    print(TLn_r_squared)"
   ]
  }
 ],
 "metadata": {
  "kernelspec": {
   "display_name": "Python 3",
   "language": "python",
   "name": "python3"
  },
  "language_info": {
   "codemirror_mode": {
    "name": "ipython",
    "version": 3
   },
   "file_extension": ".py",
   "mimetype": "text/x-python",
   "name": "python",
   "nbconvert_exporter": "python",
   "pygments_lexer": "ipython3",
   "version": "3.8.5"
  }
 },
 "nbformat": 4,
 "nbformat_minor": 4
}
