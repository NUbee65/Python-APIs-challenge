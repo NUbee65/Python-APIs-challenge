{
 "cells": [
  {
   "cell_type": "code",
   "execution_count": 1,
   "metadata": {},
   "outputs": [
    {
     "data": {
      "text/plain": [
       "'http://api.openweathermap.org/data/2.5/weather?appid=7ec08379d4519e16b3a72d919890d445&q=Washington, D.C.&units=imperial'"
      ]
     },
     "execution_count": 1,
     "metadata": {},
     "output_type": "execute_result"
    }
   ],
   "source": [
    "# Dependencies\n",
    "import requests\n",
    "from api_keys import weather_api_key\n",
    "import json\n",
    "\n",
    "# Save config information.\n",
    "url = \"http://api.openweathermap.org/data/2.5/weather?\"\n",
    "city = \"Washington, D.C.\"\n",
    "units = \"imperial\"\n",
    "\n",
    "# Build query URL and request your results in Celsius\n",
    "query_url = f\"{url}appid={weather_api_key}&q={city}&units={units}\"\n",
    "query_url"
   ]
  },
  {
   "cell_type": "code",
   "execution_count": 2,
   "metadata": {},
   "outputs": [
    {
     "name": "stdout",
     "output_type": "stream",
     "text": [
      "{\n",
      "    \"coord\": {\n",
      "        \"lon\": -120.5,\n",
      "        \"lat\": 47.5\n",
      "    },\n",
      "    \"weather\": [\n",
      "        {\n",
      "            \"id\": 802,\n",
      "            \"main\": \"Clouds\",\n",
      "            \"description\": \"scattered clouds\",\n",
      "            \"icon\": \"03d\"\n",
      "        }\n",
      "    ],\n",
      "    \"base\": \"stations\",\n",
      "    \"main\": {\n",
      "        \"temp\": 32.99,\n",
      "        \"feels_like\": 27.16,\n",
      "        \"temp_min\": 32,\n",
      "        \"temp_max\": 35.01,\n",
      "        \"pressure\": 949,\n",
      "        \"humidity\": 95\n",
      "    },\n",
      "    \"visibility\": 10000,\n",
      "    \"wind\": {\n",
      "        \"speed\": 3.94,\n",
      "        \"deg\": 273\n",
      "    },\n",
      "    \"clouds\": {\n",
      "        \"all\": 28\n",
      "    },\n",
      "    \"dt\": 1605801216,\n",
      "    \"sys\": {\n",
      "        \"type\": 3,\n",
      "        \"id\": 2011179,\n",
      "        \"country\": \"US\",\n",
      "        \"sunrise\": 1605798825,\n",
      "        \"sunset\": 1605831700\n",
      "    },\n",
      "    \"timezone\": -28800,\n",
      "    \"id\": 5815135,\n",
      "    \"name\": \"Washington\",\n",
      "    \"cod\": 200\n",
      "}\n"
     ]
    }
   ],
   "source": [
    "# Get weather data\n",
    "# Use JSON formatting to study output data structure and headings\n",
    "weather_json = requests.get(query_url).json()\n",
    "print(json.dumps(weather_json, indent=4))"
   ]
  },
  {
   "cell_type": "code",
   "execution_count": null,
   "metadata": {},
   "outputs": [],
   "source": []
  }
 ],
 "metadata": {
  "kernelspec": {
   "display_name": "Python 3",
   "language": "python",
   "name": "python3"
  },
  "language_info": {
   "codemirror_mode": {
    "name": "ipython",
    "version": 3
   },
   "file_extension": ".py",
   "mimetype": "text/x-python",
   "name": "python",
   "nbconvert_exporter": "python",
   "pygments_lexer": "ipython3",
   "version": "3.8.5"
  }
 },
 "nbformat": 4,
 "nbformat_minor": 4
}
