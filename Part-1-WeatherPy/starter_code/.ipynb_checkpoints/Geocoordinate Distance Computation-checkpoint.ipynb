{
 "cells": [
  {
   "cell_type": "code",
   "execution_count": 7,
   "metadata": {},
   "outputs": [],
   "source": [
    "# dependencies for computing radians \n",
    "import math\n",
    "import requests\n",
    "import pandas as pd\n",
    "\n",
    "# Google developer API key\n",
    "from api_keys import g_key"
   ]
  },
  {
   "cell_type": "code",
   "execution_count": null,
   "metadata": {},
   "outputs": [],
   "source": [
    "# DD-format Geocoordinates for Washington, DC: 38.89511 -77.03637\n",
    "# DD-format Geocoordinates for New York, NY: 40.71427 -74.00597\n",
    "# Known distance between Washington, DC to New York, NY: 204.18 mi (328.59 km)\n",
    "\n",
    "# The radius of Earth at the equator is 3,963 miles (6,378 kilometers), according to NASA's \n",
    "# Goddard Space Flight Center. However, Earth is not quite a sphere. The planet's rotation\n",
    "# causes it to bulge at the equator. Earth's polar radius is 3,950 miles (6,356 km) — a \n",
    "# difference of 13 miles (22 km)."
   ]
  },
  {
   "cell_type": "markdown",
   "metadata": {},
   "source": [
    "# The trigonometry underlying the Haversine Formula\n",
    "![Trigonometry Explanation](../Images/trig_1.jpg)"
   ]
  },
  {
   "cell_type": "code",
   "execution_count": null,
   "metadata": {},
   "outputs": [],
   "source": [
    "# radius of the Earth, 3,958.8 mi (6373.0 km)\n",
    "# presumably a blend of polar and equatorial radii\n",
    "R = 3958.8\n",
    "\n",
    "# coordinates Washington, DC\n",
    "lat1 = math.radians(38.89511)\n",
    "lon1 = math.radians(-77.03637)\n",
    "\n",
    "# coordinates New York, NY\n",
    "lat2 = math.radians(40.71427)\n",
    "lon2 = math.radians(-74.00597)\n",
    "\n",
    "# change in coordinates\n",
    "dlon = lon2 - lon1\n",
    "dlat = lat2 - lat1\n",
    "\n",
    "# Haversine formula\n",
    "# ** is the operator for \"power of\"\n",
    "# sine\n",
    "# cosine\n",
    "a = math.sin(dlat / 2)**2 + math.cos(lat1) * math.cos(lat2) * math.sin(dlon / 2)**2\n",
    "\n",
    "c = 2 * math.atan2(math.sqrt(a), math.sqrt(1 - a))\n",
    "\n",
    "distance = R * c\n",
    "\n",
    "print(distance)"
   ]
  },
  {
   "cell_type": "code",
   "execution_count": null,
   "metadata": {},
   "outputs": [],
   "source": [
    "# Dependencies\n",
    "# import requests\n",
    "# import json\n",
    "\n",
    "# Google developer API key\n",
    "# from api_keys import g_key\n",
    "\n",
    "# Target city\n",
    "city = \"Washington, DC\"\n",
    "\n",
    "# Build the endpoint URL\n",
    "# target_url = ('https://maps.googleapis.com/maps/api/geocode/json?'\n",
    "#    'address={0}&key={1}').format(target_city, gkey)\n",
    "\n",
    "target_url = f'https://maps.googleapis.com/maps/api/geocode/json?address={city}&key={g_key}'\n",
    "\n",
    "print(target_url)"
   ]
  },
  {
   "cell_type": "code",
   "execution_count": null,
   "metadata": {},
   "outputs": [],
   "source": [
    "# Run a request to endpoint and convert result to json\n",
    "geo_data = requests.get(target_url).json()\n",
    "\n",
    "# Print the json\n",
    "# print(geo_data)"
   ]
  },
  {
   "cell_type": "code",
   "execution_count": null,
   "metadata": {},
   "outputs": [],
   "source": [
    "# Extract latitude and longitude\n",
    "lat = geo_data[\"results\"][0][\"geometry\"][\"location\"][\"lat\"]\n",
    "lng = geo_data[\"results\"][0][\"geometry\"][\"location\"][\"lng\"]\n",
    "\n",
    "# Print the latitude and longitude\n",
    "print(f'''\n",
    "    City: {city}\n",
    "    Latitude: {lat}\n",
    "    Longitude: {lng}\n",
    "    ''')"
   ]
  },
  {
   "cell_type": "code",
   "execution_count": 3,
   "metadata": {},
   "outputs": [
    {
     "name": "stdout",
     "output_type": "stream",
     "text": [
      "\n",
      "    City: Washington, DC\n",
      "    Latitude: 38.9071923\n",
      "    Longitude: -77.0368707\n",
      "    \n"
     ]
    }
   ],
   "source": [
    "# Target city\n",
    "city = \"Washington, DC\"\n",
    "\n",
    "# Build the endpoint URL\n",
    "target_url = f'https://maps.googleapis.com/maps/api/geocode/json?address={city}&key={g_key}'\n",
    "\n",
    "# Run a request to endpoint and convert result to json\n",
    "geo_data = requests.get(target_url).json()\n",
    "\n",
    "# Extract latitude and longitude\n",
    "lat = geo_data[\"results\"][0][\"geometry\"][\"location\"][\"lat\"]\n",
    "lng = geo_data[\"results\"][0][\"geometry\"][\"location\"][\"lng\"]\n",
    "\n",
    "# Print the latitude and longitude\n",
    "print(f'''\n",
    "    City: {city}\n",
    "    Latitude: {lat}\n",
    "    Longitude: {lng}\n",
    "    ''')"
   ]
  },
  {
   "cell_type": "code",
   "execution_count": 18,
   "metadata": {},
   "outputs": [
    {
     "name": "stdout",
     "output_type": "stream",
     "text": [
      "yeppoon, au found! Appending longitude and latitude\n",
      "rikitea, pf found! Appending longitude and latitude\n"
     ]
    }
   ],
   "source": [
    "# List of character\n",
    "# cities = [\"yeppoon, au\", \"rikitea, pf\", \"fergus, ca\", \"albany, au\"]\n",
    "cities = [\"yeppoon, au\", \"rikitea, pf\"]\n",
    "\n",
    "# Set url for API\n",
    "target_url = f'https://maps.googleapis.com/maps/api/geocode/json?address={city}&key={g_key}'\n",
    "\n",
    "# Set empty lists to hold characters height and mass\n",
    "target_cities = []\n",
    "target_lats = []\n",
    "target_lngs = []\n",
    "\n",
    "# Run a request to endpoint and convert result to json\n",
    "geo_data = requests.get(target_url).json()\n",
    "\n",
    "# Loop through each character\n",
    "for city in cities:\n",
    "    \n",
    "    # Create search query, make request and store in json\n",
    "    # geo_data = requests.get(target_url).json()\n",
    "    \n",
    "    # Try to extract latitude and longitude\n",
    "    try:\n",
    "        target_cities.append(city)\n",
    "        target_lats.append(geo_data[\"results\"][0][\"geometry\"][\"location\"][\"lat\"])\n",
    "        target_lngs.append(geo_data[\"results\"][0][\"geometry\"][\"location\"][\"lng\"])\n",
    "        print(f\"{city} found! Appending longitude and latitude\")\n",
    "        \n",
    "    # Handle exceptions for a character that is not available in the Star Wars API\n",
    "    except:\n",
    "        # Append null values\n",
    "        print(f\"City {character} not found\")\n",
    "        pass "
   ]
  },
  {
   "cell_type": "code",
   "execution_count": 15,
   "metadata": {},
   "outputs": [
    {
     "data": {
      "text/html": [
       "<div>\n",
       "<style scoped>\n",
       "    .dataframe tbody tr th:only-of-type {\n",
       "        vertical-align: middle;\n",
       "    }\n",
       "\n",
       "    .dataframe tbody tr th {\n",
       "        vertical-align: top;\n",
       "    }\n",
       "\n",
       "    .dataframe thead th {\n",
       "        text-align: right;\n",
       "    }\n",
       "</style>\n",
       "<table border=\"1\" class=\"dataframe\">\n",
       "  <thead>\n",
       "    <tr style=\"text-align: right;\">\n",
       "      <th></th>\n",
       "      <th>City-County</th>\n",
       "      <th>Actual Lats</th>\n",
       "      <th>Actual Lngs</th>\n",
       "    </tr>\n",
       "  </thead>\n",
       "  <tbody>\n",
       "    <tr>\n",
       "      <th>0</th>\n",
       "      <td>yeppoon, au</td>\n",
       "      <td>-35.026934</td>\n",
       "      <td>117.883721</td>\n",
       "    </tr>\n",
       "  </tbody>\n",
       "</table>\n",
       "</div>"
      ],
      "text/plain": [
       "   City-County  Actual Lats  Actual Lngs\n",
       "0  yeppoon, au   -35.026934   117.883721"
      ]
     },
     "execution_count": 15,
     "metadata": {},
     "output_type": "execute_result"
    }
   ],
   "source": [
    "cities_data2 = {\"City-County\": target_cities, \"Actual Lats\": target_lats, \"Actual Lngs\": target_lngs}\n",
    "cities_df2 = pd.DataFrame(cities_data2)\n",
    "\n",
    "cities_df2.head()"
   ]
  },
  {
   "cell_type": "code",
   "execution_count": 17,
   "metadata": {},
   "outputs": [
    {
     "data": {
      "text/html": [
       "<div>\n",
       "<style scoped>\n",
       "    .dataframe tbody tr th:only-of-type {\n",
       "        vertical-align: middle;\n",
       "    }\n",
       "\n",
       "    .dataframe tbody tr th {\n",
       "        vertical-align: top;\n",
       "    }\n",
       "\n",
       "    .dataframe thead th {\n",
       "        text-align: right;\n",
       "    }\n",
       "</style>\n",
       "<table border=\"1\" class=\"dataframe\">\n",
       "  <thead>\n",
       "    <tr style=\"text-align: right;\">\n",
       "      <th></th>\n",
       "      <th>City-County</th>\n",
       "      <th>Actual Lats</th>\n",
       "      <th>Actual Lngs</th>\n",
       "    </tr>\n",
       "  </thead>\n",
       "  <tbody>\n",
       "    <tr>\n",
       "      <th>0</th>\n",
       "      <td>rikitea, pf</td>\n",
       "      <td>-23.133333</td>\n",
       "      <td>150.733333</td>\n",
       "    </tr>\n",
       "  </tbody>\n",
       "</table>\n",
       "</div>"
      ],
      "text/plain": [
       "   City-County  Actual Lats  Actual Lngs\n",
       "0  rikitea, pf   -23.133333   150.733333"
      ]
     },
     "execution_count": 17,
     "metadata": {},
     "output_type": "execute_result"
    }
   ],
   "source": [
    "cities_data2 = {\"City-County\": target_cities, \"Actual Lats\": target_lats, \"Actual Lngs\": target_lngs}\n",
    "cities_df2 = pd.DataFrame(cities_data2)\n",
    "\n",
    "cities_df2.head()"
   ]
  },
  {
   "cell_type": "code",
   "execution_count": 19,
   "metadata": {},
   "outputs": [
    {
     "data": {
      "text/html": [
       "<div>\n",
       "<style scoped>\n",
       "    .dataframe tbody tr th:only-of-type {\n",
       "        vertical-align: middle;\n",
       "    }\n",
       "\n",
       "    .dataframe tbody tr th {\n",
       "        vertical-align: top;\n",
       "    }\n",
       "\n",
       "    .dataframe thead th {\n",
       "        text-align: right;\n",
       "    }\n",
       "</style>\n",
       "<table border=\"1\" class=\"dataframe\">\n",
       "  <thead>\n",
       "    <tr style=\"text-align: right;\">\n",
       "      <th></th>\n",
       "      <th>City-County</th>\n",
       "      <th>Actual Lats</th>\n",
       "      <th>Actual Lngs</th>\n",
       "    </tr>\n",
       "  </thead>\n",
       "  <tbody>\n",
       "    <tr>\n",
       "      <th>0</th>\n",
       "      <td>yeppoon, au</td>\n",
       "      <td>-23.122303</td>\n",
       "      <td>-134.969154</td>\n",
       "    </tr>\n",
       "    <tr>\n",
       "      <th>1</th>\n",
       "      <td>rikitea, pf</td>\n",
       "      <td>-23.122303</td>\n",
       "      <td>-134.969154</td>\n",
       "    </tr>\n",
       "  </tbody>\n",
       "</table>\n",
       "</div>"
      ],
      "text/plain": [
       "   City-County  Actual Lats  Actual Lngs\n",
       "0  yeppoon, au   -23.122303  -134.969154\n",
       "1  rikitea, pf   -23.122303  -134.969154"
      ]
     },
     "execution_count": 19,
     "metadata": {},
     "output_type": "execute_result"
    }
   ],
   "source": [
    "cities_data2 = {\"City-County\": target_cities, \"Actual Lats\": target_lats, \"Actual Lngs\": target_lngs}\n",
    "cities_df2 = pd.DataFrame(cities_data2)\n",
    "\n",
    "cities_df2.head()"
   ]
  },
  {
   "cell_type": "code",
   "execution_count": null,
   "metadata": {},
   "outputs": [],
   "source": []
  }
 ],
 "metadata": {
  "kernelspec": {
   "display_name": "Python 3",
   "language": "python",
   "name": "python3"
  },
  "language_info": {
   "codemirror_mode": {
    "name": "ipython",
    "version": 3
   },
   "file_extension": ".py",
   "mimetype": "text/x-python",
   "name": "python",
   "nbconvert_exporter": "python",
   "pygments_lexer": "ipython3",
   "version": "3.8.5"
  }
 },
 "nbformat": 4,
 "nbformat_minor": 4
}
