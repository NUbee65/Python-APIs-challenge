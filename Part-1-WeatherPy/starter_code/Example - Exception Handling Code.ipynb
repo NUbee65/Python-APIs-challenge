{
 "cells": [
  {
   "cell_type": "code",
   "execution_count": null,
   "metadata": {},
   "outputs": [],
   "source": [
    "def returnJSONQuestion(questionId):\n",
    "    \"\"\"return the json question for given question id\"\"\"\n",
    "\n",
    "    url = 'http://answers.yahooapis.com/AnswersService/V1/getQuestion?appid=APPIDREMOVED8&question_id={0}&output=json'\n",
    "    format_url = url.format(questionId)\n",
    "    try:\n",
    "        request = urllib2.Request(format_url)\n",
    "\n",
    "        # Try to get the data and json.load it 5 times, then give up\n",
    "        tries = 5\n",
    "        while tries >= 0:\n",
    "            try:\n",
    "                urlobject = urllib2.urlopen(request)\n",
    "                jsondata = json.load(urlobject)\n",
    "                print jsondata\n",
    "                return jsondata\n",
    "            except:\n",
    "                if tries == 0:\n",
    "                    # If we keep failing, raise the exception for the outer exception\n",
    "                    # handling to deal with\n",
    "                    raise\n",
    "                else:\n",
    "                    # Wait a few seconds before retrying and hope the problem goes away\n",
    "                    time.sleep(3) \n",
    "                    tries -= 1\n",
    "                    continue\n",
    "\n",
    "    except urllib2.HTTPError, e:\n",
    "        print e.code\n",
    "        logging.exception(\"Exception\")\n",
    "        raise\n",
    "    except urllib2.URLError, e:\n",
    "        print e.reason\n",
    "        logging.exception(\"Exception\")\n",
    "        raise\n",
    "    except(json.decoder.JSONDecodeError,ValueError):\n",
    "        print 'Question ID ' + questionId + ' Decode JSON has failed'\n",
    "        logging.info(\"This qid didn't work \" + questionId)\n",
    "        raise"
   ]
  }
 ],
 "metadata": {
  "kernelspec": {
   "display_name": "Python 3",
   "language": "python",
   "name": "python3"
  },
  "language_info": {
   "codemirror_mode": {
    "name": "ipython",
    "version": 3
   },
   "file_extension": ".py",
   "mimetype": "text/x-python",
   "name": "python",
   "nbconvert_exporter": "python",
   "pygments_lexer": "ipython3",
   "version": "3.8.5"
  }
 },
 "nbformat": 4,
 "nbformat_minor": 4
}
