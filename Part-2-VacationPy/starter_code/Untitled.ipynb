{
 "cells": [
  {
   "cell_type": "code",
   "execution_count": null,
   "metadata": {},
   "outputs": [],
   "source": [
    "# Fixed parameters that will be fed into the Google Places API query parameters\n",
    "search_terms = \"Hotel and Spa\"\n",
    "search_radius = 5000\n",
    "search_type = \"hotel\"\n",
    "\n",
    "# set up empty lists to hold reponse info\n",
    "hotel_list = []\n",
    "success_lat_list = []\n",
    "success_lng_list = []\n",
    "\n",
    "for index, row in ideal_locations_df.iterrows():\n",
    "    \n",
    "    # coordinates - Used to search for Nearest City\n",
    "    lat = row[\"Latitude (°)\"]\n",
    "    lng = row[\"Longitude (°)\"]\n",
    "\n",
    "\n",
    "    # Try to extract one hotel name for each ideal weather city\n",
    "    try:\n",
    "        # set up a parameters dictionary\n",
    "        params = {\n",
    "            \"location\": f\"{lat}, {lng}\",\n",
    "            \"keyword\": search_terms,\n",
    "            \"radius\": search_radius,\n",
    "            \"type\": search_type,\n",
    "            \"key\": g_key\n",
    "        }\n",
    "        \n",
    "        # base url\n",
    "        base_url = \"https://maps.googleapis.com/maps/api/place/nearbysearch/json\"\n",
    "        \n",
    "        # run a request using params dictionary\n",
    "        response = requests.get(base_url, params=params)\n",
    "        \n",
    "        # convert response to json\n",
    "        places_data = response.json()\n",
    "        \n",
    "        hotel_list.append(response[\"name\"])\n",
    "        success_lat_list.append(lat)\n",
    "        success_lng_list.append(lng)\n",
    "                        \n",
    "        # Pause a few seconds to allow for processing delays\n",
    "        time.sleep(1) \n",
    "        \n",
    "        # Printed as Check\n",
    "        # print(f\"Hotel within 5km of geocoordinates Lat {lat}, Lng {lng} found! Appending hotel name.\")\n",
    "\n",
    "    # Handle exceptions for cities whose geocoordiantes are not returned in the Google API\n",
    "    except:\n",
    "        # Append null values\n",
    "        print(f\"Hotel near geocoordinates Lat {lat}, Lng {lng} not found\")\n",
    "        pass "
   ]
  }
 ],
 "metadata": {
  "kernelspec": {
   "display_name": "Python 3",
   "language": "python",
   "name": "python3"
  },
  "language_info": {
   "codemirror_mode": {
    "name": "ipython",
    "version": 3
   },
   "file_extension": ".py",
   "mimetype": "text/x-python",
   "name": "python",
   "nbconvert_exporter": "python",
   "pygments_lexer": "ipython3",
   "version": "3.8.5"
  }
 },
 "nbformat": 4,
 "nbformat_minor": 4
}
